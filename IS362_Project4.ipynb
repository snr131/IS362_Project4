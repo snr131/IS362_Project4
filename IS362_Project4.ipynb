{
 "cells": [
  {
   "cell_type": "markdown",
   "metadata": {
    "id": "1pi6R2mMyfwy"
   },
   "source": [
    "# Project – Predictive Analysis using scikit-learn\n",
    "\n",
    "“Which other attribute or attributes are the best predictors of whether a particular mushroom is poisonous or edible?”"
   ]
  },
  {
   "cell_type": "markdown",
   "metadata": {
    "id": "fD9C6lFpzfKy"
   },
   "source": [
    "## Load the data"
   ]
  },
  {
   "cell_type": "code",
   "execution_count": 1,
   "metadata": {
    "id": "xngFHSlRyXsO"
   },
   "outputs": [],
   "source": [
    "# import libraries\n",
    "import pandas as pd\n",
    "import matplotlib.pyplot as plt\n",
    "import seaborn as sns\n",
    "%matplotlib inline\n",
    "from sklearn.model_selection import train_test_split\n",
    "from sklearn.linear_model import LinearRegression"
   ]
  },
  {
   "cell_type": "code",
   "execution_count": 2,
   "metadata": {
    "id": "1GY_89T30GGP"
   },
   "outputs": [],
   "source": [
    "# set options\n",
    "pd.options.display.max_columns = 50\n",
    "pd.options.display.max_colwidth = 100\n",
    "pd.options.mode.chained_assignment = None"
   ]
  },
  {
   "cell_type": "code",
   "execution_count": 3,
   "metadata": {
    "id": "t1IY-1Sxzx2g"
   },
   "outputs": [],
   "source": [
    "# read csv into df\n",
    "mushrooms = pd.read_csv('mushrooms.csv')"
   ]
  },
  {
   "cell_type": "code",
   "execution_count": 4,
   "metadata": {
    "colab": {
     "base_uri": "https://localhost:8080/",
     "height": 224
    },
    "id": "y534s2fQ0Iou",
    "outputId": "2e5e67d0-d85d-4a0a-d14e-fd45a2659456"
   },
   "outputs": [
    {
     "data": {
      "text/html": [
       "<div>\n",
       "<style scoped>\n",
       "    .dataframe tbody tr th:only-of-type {\n",
       "        vertical-align: middle;\n",
       "    }\n",
       "\n",
       "    .dataframe tbody tr th {\n",
       "        vertical-align: top;\n",
       "    }\n",
       "\n",
       "    .dataframe thead th {\n",
       "        text-align: right;\n",
       "    }\n",
       "</style>\n",
       "<table border=\"1\" class=\"dataframe\">\n",
       "  <thead>\n",
       "    <tr style=\"text-align: right;\">\n",
       "      <th></th>\n",
       "      <th>class</th>\n",
       "      <th>cap-shape</th>\n",
       "      <th>cap-surface</th>\n",
       "      <th>cap-color</th>\n",
       "      <th>bruises</th>\n",
       "      <th>odor</th>\n",
       "      <th>gill-attachment</th>\n",
       "      <th>gill-spacing</th>\n",
       "      <th>gill-size</th>\n",
       "      <th>gill-color</th>\n",
       "      <th>stalk-shape</th>\n",
       "      <th>stalk-root</th>\n",
       "      <th>stalk-surface-above-ring</th>\n",
       "      <th>stalk-surface-below-ring</th>\n",
       "      <th>stalk-color-above-ring</th>\n",
       "      <th>stalk-color-below-ring</th>\n",
       "      <th>veil-type</th>\n",
       "      <th>veil-color</th>\n",
       "      <th>ring-number</th>\n",
       "      <th>ring-type</th>\n",
       "      <th>spore-print-color</th>\n",
       "      <th>population</th>\n",
       "      <th>habitat</th>\n",
       "    </tr>\n",
       "  </thead>\n",
       "  <tbody>\n",
       "    <tr>\n",
       "      <th>0</th>\n",
       "      <td>p</td>\n",
       "      <td>x</td>\n",
       "      <td>s</td>\n",
       "      <td>n</td>\n",
       "      <td>t</td>\n",
       "      <td>p</td>\n",
       "      <td>f</td>\n",
       "      <td>c</td>\n",
       "      <td>n</td>\n",
       "      <td>k</td>\n",
       "      <td>e</td>\n",
       "      <td>e</td>\n",
       "      <td>s</td>\n",
       "      <td>s</td>\n",
       "      <td>w</td>\n",
       "      <td>w</td>\n",
       "      <td>p</td>\n",
       "      <td>w</td>\n",
       "      <td>o</td>\n",
       "      <td>p</td>\n",
       "      <td>k</td>\n",
       "      <td>s</td>\n",
       "      <td>u</td>\n",
       "    </tr>\n",
       "    <tr>\n",
       "      <th>1</th>\n",
       "      <td>e</td>\n",
       "      <td>x</td>\n",
       "      <td>s</td>\n",
       "      <td>y</td>\n",
       "      <td>t</td>\n",
       "      <td>a</td>\n",
       "      <td>f</td>\n",
       "      <td>c</td>\n",
       "      <td>b</td>\n",
       "      <td>k</td>\n",
       "      <td>e</td>\n",
       "      <td>c</td>\n",
       "      <td>s</td>\n",
       "      <td>s</td>\n",
       "      <td>w</td>\n",
       "      <td>w</td>\n",
       "      <td>p</td>\n",
       "      <td>w</td>\n",
       "      <td>o</td>\n",
       "      <td>p</td>\n",
       "      <td>n</td>\n",
       "      <td>n</td>\n",
       "      <td>g</td>\n",
       "    </tr>\n",
       "    <tr>\n",
       "      <th>2</th>\n",
       "      <td>e</td>\n",
       "      <td>b</td>\n",
       "      <td>s</td>\n",
       "      <td>w</td>\n",
       "      <td>t</td>\n",
       "      <td>l</td>\n",
       "      <td>f</td>\n",
       "      <td>c</td>\n",
       "      <td>b</td>\n",
       "      <td>n</td>\n",
       "      <td>e</td>\n",
       "      <td>c</td>\n",
       "      <td>s</td>\n",
       "      <td>s</td>\n",
       "      <td>w</td>\n",
       "      <td>w</td>\n",
       "      <td>p</td>\n",
       "      <td>w</td>\n",
       "      <td>o</td>\n",
       "      <td>p</td>\n",
       "      <td>n</td>\n",
       "      <td>n</td>\n",
       "      <td>m</td>\n",
       "    </tr>\n",
       "    <tr>\n",
       "      <th>3</th>\n",
       "      <td>p</td>\n",
       "      <td>x</td>\n",
       "      <td>y</td>\n",
       "      <td>w</td>\n",
       "      <td>t</td>\n",
       "      <td>p</td>\n",
       "      <td>f</td>\n",
       "      <td>c</td>\n",
       "      <td>n</td>\n",
       "      <td>n</td>\n",
       "      <td>e</td>\n",
       "      <td>e</td>\n",
       "      <td>s</td>\n",
       "      <td>s</td>\n",
       "      <td>w</td>\n",
       "      <td>w</td>\n",
       "      <td>p</td>\n",
       "      <td>w</td>\n",
       "      <td>o</td>\n",
       "      <td>p</td>\n",
       "      <td>k</td>\n",
       "      <td>s</td>\n",
       "      <td>u</td>\n",
       "    </tr>\n",
       "    <tr>\n",
       "      <th>4</th>\n",
       "      <td>e</td>\n",
       "      <td>x</td>\n",
       "      <td>s</td>\n",
       "      <td>g</td>\n",
       "      <td>f</td>\n",
       "      <td>n</td>\n",
       "      <td>f</td>\n",
       "      <td>w</td>\n",
       "      <td>b</td>\n",
       "      <td>k</td>\n",
       "      <td>t</td>\n",
       "      <td>e</td>\n",
       "      <td>s</td>\n",
       "      <td>s</td>\n",
       "      <td>w</td>\n",
       "      <td>w</td>\n",
       "      <td>p</td>\n",
       "      <td>w</td>\n",
       "      <td>o</td>\n",
       "      <td>e</td>\n",
       "      <td>n</td>\n",
       "      <td>a</td>\n",
       "      <td>g</td>\n",
       "    </tr>\n",
       "  </tbody>\n",
       "</table>\n",
       "</div>"
      ],
      "text/plain": [
       "  class cap-shape cap-surface cap-color bruises odor gill-attachment  \\\n",
       "0     p         x           s         n       t    p               f   \n",
       "1     e         x           s         y       t    a               f   \n",
       "2     e         b           s         w       t    l               f   \n",
       "3     p         x           y         w       t    p               f   \n",
       "4     e         x           s         g       f    n               f   \n",
       "\n",
       "  gill-spacing gill-size gill-color stalk-shape stalk-root  \\\n",
       "0            c         n          k           e          e   \n",
       "1            c         b          k           e          c   \n",
       "2            c         b          n           e          c   \n",
       "3            c         n          n           e          e   \n",
       "4            w         b          k           t          e   \n",
       "\n",
       "  stalk-surface-above-ring stalk-surface-below-ring stalk-color-above-ring  \\\n",
       "0                        s                        s                      w   \n",
       "1                        s                        s                      w   \n",
       "2                        s                        s                      w   \n",
       "3                        s                        s                      w   \n",
       "4                        s                        s                      w   \n",
       "\n",
       "  stalk-color-below-ring veil-type veil-color ring-number ring-type  \\\n",
       "0                      w         p          w           o         p   \n",
       "1                      w         p          w           o         p   \n",
       "2                      w         p          w           o         p   \n",
       "3                      w         p          w           o         p   \n",
       "4                      w         p          w           o         e   \n",
       "\n",
       "  spore-print-color population habitat  \n",
       "0                 k          s       u  \n",
       "1                 n          n       g  \n",
       "2                 n          n       m  \n",
       "3                 k          s       u  \n",
       "4                 n          a       g  "
      ]
     },
     "execution_count": 4,
     "metadata": {},
     "output_type": "execute_result"
    }
   ],
   "source": [
    "# view df head\n",
    "mushrooms.head()"
   ]
  },
  {
   "cell_type": "code",
   "execution_count": 5,
   "metadata": {
    "id": "sYYALWrt2-xD"
   },
   "outputs": [],
   "source": [
    "# rename class column\n",
    "mushrooms = mushrooms.rename(columns={'class':'poisonous'})"
   ]
  },
  {
   "cell_type": "code",
   "execution_count": 6,
   "metadata": {
    "colab": {
     "base_uri": "https://localhost:8080/"
    },
    "id": "cNmjS3uy07Ba",
    "outputId": "f9ee0775-fecc-4674-db05-dbf6b3a2fbff"
   },
   "outputs": [
    {
     "data": {
      "text/plain": [
       "poisonous                   0\n",
       "cap-shape                   0\n",
       "cap-surface                 0\n",
       "cap-color                   0\n",
       "bruises                     0\n",
       "odor                        0\n",
       "gill-attachment             0\n",
       "gill-spacing                0\n",
       "gill-size                   0\n",
       "gill-color                  0\n",
       "stalk-shape                 0\n",
       "stalk-root                  0\n",
       "stalk-surface-above-ring    0\n",
       "stalk-surface-below-ring    0\n",
       "stalk-color-above-ring      0\n",
       "stalk-color-below-ring      0\n",
       "veil-type                   0\n",
       "veil-color                  0\n",
       "ring-number                 0\n",
       "ring-type                   0\n",
       "spore-print-color           0\n",
       "population                  0\n",
       "habitat                     0\n",
       "dtype: int64"
      ]
     },
     "execution_count": 6,
     "metadata": {},
     "output_type": "execute_result"
    }
   ],
   "source": [
    "# look for null values\n",
    "mushrooms.isnull().sum()"
   ]
  },
  {
   "cell_type": "markdown",
   "metadata": {
    "id": "BvXVru2p1M4w"
   },
   "source": [
    "## Identify a subset"
   ]
  },
  {
   "cell_type": "code",
   "execution_count": 7,
   "metadata": {
    "colab": {
     "base_uri": "https://localhost:8080/",
     "height": 402
    },
    "id": "OillvDHi1Qx2",
    "outputId": "17a17a3c-ba61-413e-d4ab-36b9d3b5db2c"
   },
   "outputs": [
    {
     "data": {
      "text/html": [
       "<div>\n",
       "<style scoped>\n",
       "    .dataframe tbody tr th:only-of-type {\n",
       "        vertical-align: middle;\n",
       "    }\n",
       "\n",
       "    .dataframe tbody tr th {\n",
       "        vertical-align: top;\n",
       "    }\n",
       "\n",
       "    .dataframe thead th {\n",
       "        text-align: right;\n",
       "    }\n",
       "</style>\n",
       "<table border=\"1\" class=\"dataframe\">\n",
       "  <thead>\n",
       "    <tr style=\"text-align: right;\">\n",
       "      <th></th>\n",
       "      <th>poisonous</th>\n",
       "      <th>odor</th>\n",
       "      <th>cap-shape</th>\n",
       "      <th>cap-surface</th>\n",
       "      <th>cap-color</th>\n",
       "      <th>gill-color</th>\n",
       "    </tr>\n",
       "  </thead>\n",
       "  <tbody>\n",
       "    <tr>\n",
       "      <th>0</th>\n",
       "      <td>p</td>\n",
       "      <td>p</td>\n",
       "      <td>x</td>\n",
       "      <td>s</td>\n",
       "      <td>n</td>\n",
       "      <td>k</td>\n",
       "    </tr>\n",
       "    <tr>\n",
       "      <th>1</th>\n",
       "      <td>e</td>\n",
       "      <td>a</td>\n",
       "      <td>x</td>\n",
       "      <td>s</td>\n",
       "      <td>y</td>\n",
       "      <td>k</td>\n",
       "    </tr>\n",
       "    <tr>\n",
       "      <th>2</th>\n",
       "      <td>e</td>\n",
       "      <td>l</td>\n",
       "      <td>b</td>\n",
       "      <td>s</td>\n",
       "      <td>w</td>\n",
       "      <td>n</td>\n",
       "    </tr>\n",
       "    <tr>\n",
       "      <th>3</th>\n",
       "      <td>p</td>\n",
       "      <td>p</td>\n",
       "      <td>x</td>\n",
       "      <td>y</td>\n",
       "      <td>w</td>\n",
       "      <td>n</td>\n",
       "    </tr>\n",
       "    <tr>\n",
       "      <th>4</th>\n",
       "      <td>e</td>\n",
       "      <td>n</td>\n",
       "      <td>x</td>\n",
       "      <td>s</td>\n",
       "      <td>g</td>\n",
       "      <td>k</td>\n",
       "    </tr>\n",
       "    <tr>\n",
       "      <th>...</th>\n",
       "      <td>...</td>\n",
       "      <td>...</td>\n",
       "      <td>...</td>\n",
       "      <td>...</td>\n",
       "      <td>...</td>\n",
       "      <td>...</td>\n",
       "    </tr>\n",
       "    <tr>\n",
       "      <th>8119</th>\n",
       "      <td>e</td>\n",
       "      <td>n</td>\n",
       "      <td>k</td>\n",
       "      <td>s</td>\n",
       "      <td>n</td>\n",
       "      <td>y</td>\n",
       "    </tr>\n",
       "    <tr>\n",
       "      <th>8120</th>\n",
       "      <td>e</td>\n",
       "      <td>n</td>\n",
       "      <td>x</td>\n",
       "      <td>s</td>\n",
       "      <td>n</td>\n",
       "      <td>y</td>\n",
       "    </tr>\n",
       "    <tr>\n",
       "      <th>8121</th>\n",
       "      <td>e</td>\n",
       "      <td>n</td>\n",
       "      <td>f</td>\n",
       "      <td>s</td>\n",
       "      <td>n</td>\n",
       "      <td>n</td>\n",
       "    </tr>\n",
       "    <tr>\n",
       "      <th>8122</th>\n",
       "      <td>p</td>\n",
       "      <td>y</td>\n",
       "      <td>k</td>\n",
       "      <td>y</td>\n",
       "      <td>n</td>\n",
       "      <td>b</td>\n",
       "    </tr>\n",
       "    <tr>\n",
       "      <th>8123</th>\n",
       "      <td>e</td>\n",
       "      <td>n</td>\n",
       "      <td>x</td>\n",
       "      <td>s</td>\n",
       "      <td>n</td>\n",
       "      <td>y</td>\n",
       "    </tr>\n",
       "  </tbody>\n",
       "</table>\n",
       "<p>8124 rows × 6 columns</p>\n",
       "</div>"
      ],
      "text/plain": [
       "     poisonous odor cap-shape cap-surface cap-color gill-color\n",
       "0            p    p         x           s         n          k\n",
       "1            e    a         x           s         y          k\n",
       "2            e    l         b           s         w          n\n",
       "3            p    p         x           y         w          n\n",
       "4            e    n         x           s         g          k\n",
       "...        ...  ...       ...         ...       ...        ...\n",
       "8119         e    n         k           s         n          y\n",
       "8120         e    n         x           s         n          y\n",
       "8121         e    n         f           s         n          n\n",
       "8122         p    y         k           y         n          b\n",
       "8123         e    n         x           s         n          y\n",
       "\n",
       "[8124 rows x 6 columns]"
      ]
     },
     "execution_count": 7,
     "metadata": {},
     "output_type": "execute_result"
    }
   ],
   "source": [
    "# select a subset of variables\n",
    "subset = mushrooms[['poisonous', 'odor', 'cap-shape', 'cap-surface', 'cap-color', 'gill-color']]\n",
    "subset"
   ]
  },
  {
   "cell_type": "code",
   "execution_count": 8,
   "metadata": {
    "colab": {
     "base_uri": "https://localhost:8080/",
     "height": 402
    },
    "id": "0CabM61s1Zez",
    "outputId": "81dc4e10-9836-461c-ca4c-335a470a8a1f"
   },
   "outputs": [
    {
     "data": {
      "text/html": [
       "<div>\n",
       "<style scoped>\n",
       "    .dataframe tbody tr th:only-of-type {\n",
       "        vertical-align: middle;\n",
       "    }\n",
       "\n",
       "    .dataframe tbody tr th {\n",
       "        vertical-align: top;\n",
       "    }\n",
       "\n",
       "    .dataframe thead th {\n",
       "        text-align: right;\n",
       "    }\n",
       "</style>\n",
       "<table border=\"1\" class=\"dataframe\">\n",
       "  <thead>\n",
       "    <tr style=\"text-align: right;\">\n",
       "      <th></th>\n",
       "      <th>poisonous</th>\n",
       "      <th>odor</th>\n",
       "      <th>cap-shape</th>\n",
       "      <th>cap-surface</th>\n",
       "      <th>cap-color</th>\n",
       "      <th>gill-color</th>\n",
       "    </tr>\n",
       "  </thead>\n",
       "  <tbody>\n",
       "    <tr>\n",
       "      <th>0</th>\n",
       "      <td>poisonous</td>\n",
       "      <td>pungent</td>\n",
       "      <td>convex</td>\n",
       "      <td>smooth</td>\n",
       "      <td>brown</td>\n",
       "      <td>black</td>\n",
       "    </tr>\n",
       "    <tr>\n",
       "      <th>1</th>\n",
       "      <td>edible</td>\n",
       "      <td>almond</td>\n",
       "      <td>convex</td>\n",
       "      <td>smooth</td>\n",
       "      <td>yellow</td>\n",
       "      <td>black</td>\n",
       "    </tr>\n",
       "    <tr>\n",
       "      <th>2</th>\n",
       "      <td>edible</td>\n",
       "      <td>anise</td>\n",
       "      <td>bell</td>\n",
       "      <td>smooth</td>\n",
       "      <td>white</td>\n",
       "      <td>brown</td>\n",
       "    </tr>\n",
       "    <tr>\n",
       "      <th>3</th>\n",
       "      <td>poisonous</td>\n",
       "      <td>pungent</td>\n",
       "      <td>convex</td>\n",
       "      <td>scaly</td>\n",
       "      <td>white</td>\n",
       "      <td>brown</td>\n",
       "    </tr>\n",
       "    <tr>\n",
       "      <th>4</th>\n",
       "      <td>edible</td>\n",
       "      <td>none</td>\n",
       "      <td>convex</td>\n",
       "      <td>smooth</td>\n",
       "      <td>gray</td>\n",
       "      <td>black</td>\n",
       "    </tr>\n",
       "    <tr>\n",
       "      <th>...</th>\n",
       "      <td>...</td>\n",
       "      <td>...</td>\n",
       "      <td>...</td>\n",
       "      <td>...</td>\n",
       "      <td>...</td>\n",
       "      <td>...</td>\n",
       "    </tr>\n",
       "    <tr>\n",
       "      <th>8119</th>\n",
       "      <td>edible</td>\n",
       "      <td>none</td>\n",
       "      <td>knobbed</td>\n",
       "      <td>smooth</td>\n",
       "      <td>brown</td>\n",
       "      <td>yellow</td>\n",
       "    </tr>\n",
       "    <tr>\n",
       "      <th>8120</th>\n",
       "      <td>edible</td>\n",
       "      <td>none</td>\n",
       "      <td>convex</td>\n",
       "      <td>smooth</td>\n",
       "      <td>brown</td>\n",
       "      <td>yellow</td>\n",
       "    </tr>\n",
       "    <tr>\n",
       "      <th>8121</th>\n",
       "      <td>edible</td>\n",
       "      <td>none</td>\n",
       "      <td>flat</td>\n",
       "      <td>smooth</td>\n",
       "      <td>brown</td>\n",
       "      <td>brown</td>\n",
       "    </tr>\n",
       "    <tr>\n",
       "      <th>8122</th>\n",
       "      <td>poisonous</td>\n",
       "      <td>fishy</td>\n",
       "      <td>knobbed</td>\n",
       "      <td>scaly</td>\n",
       "      <td>brown</td>\n",
       "      <td>buff</td>\n",
       "    </tr>\n",
       "    <tr>\n",
       "      <th>8123</th>\n",
       "      <td>edible</td>\n",
       "      <td>none</td>\n",
       "      <td>convex</td>\n",
       "      <td>smooth</td>\n",
       "      <td>brown</td>\n",
       "      <td>yellow</td>\n",
       "    </tr>\n",
       "  </tbody>\n",
       "</table>\n",
       "<p>8124 rows × 6 columns</p>\n",
       "</div>"
      ],
      "text/plain": [
       "      poisonous     odor cap-shape cap-surface cap-color gill-color\n",
       "0     poisonous  pungent    convex      smooth     brown      black\n",
       "1        edible   almond    convex      smooth    yellow      black\n",
       "2        edible    anise      bell      smooth     white      brown\n",
       "3     poisonous  pungent    convex       scaly     white      brown\n",
       "4        edible     none    convex      smooth      gray      black\n",
       "...         ...      ...       ...         ...       ...        ...\n",
       "8119     edible     none   knobbed      smooth     brown     yellow\n",
       "8120     edible     none    convex      smooth     brown     yellow\n",
       "8121     edible     none      flat      smooth     brown      brown\n",
       "8122  poisonous    fishy   knobbed       scaly     brown       buff\n",
       "8123     edible     none    convex      smooth     brown     yellow\n",
       "\n",
       "[8124 rows x 6 columns]"
      ]
     },
     "execution_count": 8,
     "metadata": {},
     "output_type": "execute_result"
    }
   ],
   "source": [
    "# replace the variable codes with meaningful values\n",
    "subset['poisonous'] = subset['poisonous'].replace(['e','p'],['edible','poisonous'])\n",
    "subset['cap-shape'] = subset['cap-shape'].replace(['b','c', 'x', 'f', 'k', 's'],['bell', 'conical', 'convex', 'flat', 'knobbed', 'sunken'])\n",
    "subset['cap-surface'] = subset['cap-surface'].replace(['f','g', 'y', 's'],['fibrous', 'grooves', 'scaly', 'smooth'])\n",
    "subset['cap-color'] = subset['cap-color'].replace(['n','b', 'c', 'g', 'r', 'p', 'u', 'e', 'w', 'y'],['brown', 'buff', 'cinnamon', 'gray', 'green', 'pink', 'purple', 'red', 'white', 'yellow'])\n",
    "subset['odor'] = subset['odor'].replace(['a','l', 'c', 'y', 'f', 'm', 'n', 'p', 's'],['almond', 'anise', 'creosote', 'fishy','foul', 'musty','none','pungent','spicy'])\n",
    "subset['gill-color'] = subset['gill-color'].replace(['k','n', 'b', 'h', 'g', 'r', 'o', 'p', 'u', 'e', 'w', 'y'],['black', 'brown', 'buff', 'chocolate', 'gray', 'green', 'orange',\n",
    "                                                                                                                 'pink', 'purple', 'red', 'white', 'yellow'])\n",
    "subset"
   ]
  },
  {
   "cell_type": "markdown",
   "metadata": {
    "id": "oZd1sELjUox8"
   },
   "source": [
    "## Exploratory analysis"
   ]
  },
  {
   "cell_type": "markdown",
   "metadata": {
    "id": "dWtuAv42HZ2l"
   },
   "source": [
    "More than half of the mushrooms in this dataset are edible."
   ]
  },
  {
   "cell_type": "code",
   "execution_count": 9,
   "metadata": {
    "colab": {
     "base_uri": "https://localhost:8080/"
    },
    "id": "6xhPti_6P38y",
    "outputId": "8d535511-d949-42d2-a4c8-042716269be1"
   },
   "outputs": [
    {
     "data": {
      "text/plain": [
       "edible       4208\n",
       "poisonous    3916\n",
       "Name: poisonous, dtype: int64"
      ]
     },
     "execution_count": 9,
     "metadata": {},
     "output_type": "execute_result"
    }
   ],
   "source": [
    "subset.poisonous.value_counts()"
   ]
  },
  {
   "cell_type": "markdown",
   "metadata": {
    "id": "peQXGXN6BQWO"
   },
   "source": [
    "### Odor\n",
    "\n",
    "A significant percentage of mushrooms in this dataset have no odor, and those odorless mushrooms are recorded as poisonous and edible."
   ]
  },
  {
   "cell_type": "code",
   "execution_count": 10,
   "metadata": {
    "colab": {
     "base_uri": "https://localhost:8080/"
    },
    "id": "YQ-bBF5DPy3n",
    "outputId": "a2fb2f29-dff5-4aff-e635-43ccffe63b8e"
   },
   "outputs": [
    {
     "data": {
      "text/plain": [
       "none        3528\n",
       "foul        2160\n",
       "spicy        576\n",
       "fishy        576\n",
       "anise        400\n",
       "almond       400\n",
       "pungent      256\n",
       "creosote     192\n",
       "musty         36\n",
       "Name: odor, dtype: int64"
      ]
     },
     "execution_count": 10,
     "metadata": {},
     "output_type": "execute_result"
    }
   ],
   "source": [
    "subset.odor.value_counts()"
   ]
  },
  {
   "cell_type": "code",
   "execution_count": 11,
   "metadata": {
    "colab": {
     "base_uri": "https://localhost:8080/"
    },
    "id": "Ly_A6l2GDBx2",
    "outputId": "67b6658a-4265-40a2-a58b-51bbbf1a54ff"
   },
   "outputs": [
    {
     "data": {
      "text/plain": [
       "odor      poisonous\n",
       "almond    edible        400\n",
       "anise     edible        400\n",
       "creosote  poisonous     192\n",
       "fishy     poisonous     576\n",
       "foul      poisonous    2160\n",
       "musty     poisonous      36\n",
       "none      edible       3408\n",
       "          poisonous     120\n",
       "pungent   poisonous     256\n",
       "spicy     poisonous     576\n",
       "Name: poisonous, dtype: int64"
      ]
     },
     "execution_count": 11,
     "metadata": {},
     "output_type": "execute_result"
    }
   ],
   "source": [
    "subset.groupby('odor')['poisonous'].value_counts()"
   ]
  },
  {
   "cell_type": "code",
   "execution_count": 12,
   "metadata": {
    "colab": {
     "base_uri": "https://localhost:8080/",
     "height": 320
    },
    "id": "ezpso3mMeVGI",
    "outputId": "b4c35371-0d96-4e54-8048-f93c0f007b19"
   },
   "outputs": [
    {
     "data": {
      "image/png": "[encoded data removed]",
      "text/plain": [
       "<Figure size 432x288 with 1 Axes>"
      ]
     },
     "metadata": {
      "needs_background": "light"
     },
     "output_type": "display_data"
    }
   ],
   "source": [
    "sns.scatterplot(\n",
    "    x='poisonous',\n",
    "    y='odor',\n",
    "    hue = 'poisonous',\n",
    "    palette=['blue','red'],\n",
    "    data=subset)\n",
    "plt.xticks(rotation=90)\n",
    "plt.legend(loc='upper center');"
   ]
  },
  {
   "cell_type": "markdown",
   "metadata": {
    "id": "II3_TU1qB_g4"
   },
   "source": [
    "### Cap shape\n",
    "\n",
    "Bell-, convex-, flat-, and knobbed-capped mushroms can be either edible or poisonous."
   ]
  },
  {
   "cell_type": "code",
   "execution_count": 13,
   "metadata": {
    "colab": {
     "base_uri": "https://localhost:8080/"
    },
    "id": "dvuwvTP7Tbj4",
    "outputId": "2cb38f5d-9fd3-4ad1-86ad-2409335ae850"
   },
   "outputs": [
    {
     "data": {
      "text/plain": [
       "convex     3656\n",
       "flat       3152\n",
       "knobbed     828\n",
       "bell        452\n",
       "sunken       32\n",
       "conical       4\n",
       "Name: cap-shape, dtype: int64"
      ]
     },
     "execution_count": 13,
     "metadata": {},
     "output_type": "execute_result"
    }
   ],
   "source": [
    "subset['cap-shape'].value_counts()"
   ]
  },
  {
   "cell_type": "code",
   "execution_count": 14,
   "metadata": {
    "colab": {
     "base_uri": "https://localhost:8080/"
    },
    "id": "PIK-SNjtDoYC",
    "outputId": "ca5e42ba-685c-4e3f-968b-a37e30378656"
   },
   "outputs": [
    {
     "data": {
      "text/plain": [
       "cap-shape  poisonous\n",
       "bell       edible        404\n",
       "           poisonous      48\n",
       "conical    poisonous       4\n",
       "convex     edible       1948\n",
       "           poisonous    1708\n",
       "flat       edible       1596\n",
       "           poisonous    1556\n",
       "knobbed    poisonous     600\n",
       "           edible        228\n",
       "sunken     edible         32\n",
       "Name: poisonous, dtype: int64"
      ]
     },
     "execution_count": 14,
     "metadata": {},
     "output_type": "execute_result"
    }
   ],
   "source": [
    "subset.groupby('cap-shape')['poisonous'].value_counts()"
   ]
  },
  {
   "cell_type": "code",
   "execution_count": 15,
   "metadata": {
    "colab": {
     "base_uri": "https://localhost:8080/",
     "height": 320
    },
    "id": "j2JXuB1Del8i",
    "outputId": "e38cb73c-d451-4a16-e2ec-f8f822827426"
   },
   "outputs": [
    {
     "data": {
      "image/png": "[encoded data removed]",
      "text/plain": [
       "<Figure size 432x288 with 1 Axes>"
      ]
     },
     "metadata": {
      "needs_background": "light"
     },
     "output_type": "display_data"
    }
   ],
   "source": [
    "sns.scatterplot(\n",
    "    x='poisonous',\n",
    "    y='cap-shape',\n",
    "    hue = 'poisonous',\n",
    "    palette=['blue','red'],\n",
    "    data=subset)\n",
    "plt.xticks(rotation=90)\n",
    "plt.legend(loc='upper center');"
   ]
  },
  {
   "cell_type": "markdown",
   "metadata": {
    "id": "83qDm2WXEK2E"
   },
   "source": [
    "### Cap surface"
   ]
  },
  {
   "cell_type": "markdown",
   "metadata": {
    "id": "-yHSBOYSHpx0"
   },
   "source": [
    "In this dataset, only groove-surface caps are exclusively poisonous. "
   ]
  },
  {
   "cell_type": "code",
   "execution_count": 16,
   "metadata": {
    "colab": {
     "base_uri": "https://localhost:8080/"
    },
    "id": "fEX5HJuUVSxl",
    "outputId": "7454e921-3f44-4835-b558-fc60f2524b02"
   },
   "outputs": [
    {
     "data": {
      "text/plain": [
       "scaly      3244\n",
       "smooth     2556\n",
       "fibrous    2320\n",
       "grooves       4\n",
       "Name: cap-surface, dtype: int64"
      ]
     },
     "execution_count": 16,
     "metadata": {},
     "output_type": "execute_result"
    }
   ],
   "source": [
    "subset['cap-surface'].value_counts()"
   ]
  },
  {
   "cell_type": "code",
   "execution_count": 17,
   "metadata": {
    "colab": {
     "base_uri": "https://localhost:8080/"
    },
    "id": "nf0yR6_dEUu3",
    "outputId": "40315862-f5a0-49be-abf3-7a8f56993c3b"
   },
   "outputs": [
    {
     "data": {
      "text/plain": [
       "cap-surface  poisonous\n",
       "fibrous      edible       1560\n",
       "             poisonous     760\n",
       "grooves      poisonous       4\n",
       "scaly        poisonous    1740\n",
       "             edible       1504\n",
       "smooth       poisonous    1412\n",
       "             edible       1144\n",
       "Name: poisonous, dtype: int64"
      ]
     },
     "execution_count": 17,
     "metadata": {},
     "output_type": "execute_result"
    }
   ],
   "source": [
    "subset.groupby('cap-surface')['poisonous'].value_counts()"
   ]
  },
  {
   "cell_type": "code",
   "execution_count": 18,
   "metadata": {
    "colab": {
     "base_uri": "https://localhost:8080/",
     "height": 320
    },
    "id": "eHsmVz7-ew7r",
    "outputId": "70264559-9093-4fb0-8b8f-0e51ac5c2bd8"
   },
   "outputs": [
    {
     "data": {
      "image/png": "[encoded data removed]",
      "text/plain": [
       "<Figure size 432x288 with 1 Axes>"
      ]
     },
     "metadata": {
      "needs_background": "light"
     },
     "output_type": "display_data"
    }
   ],
   "source": [
    "sns.scatterplot(\n",
    "    x='poisonous',\n",
    "    y='cap-surface',\n",
    "    hue = 'poisonous',\n",
    "    palette=['blue','red'],\n",
    "    data=subset)\n",
    "plt.xticks(rotation=90)\n",
    "plt.legend(loc='upper center');"
   ]
  },
  {
   "cell_type": "markdown",
   "metadata": {
    "id": "Y5D5wgONH425"
   },
   "source": [
    "### Cap color"
   ]
  },
  {
   "cell_type": "markdown",
   "metadata": {
    "id": "886U2w_4IJx4"
   },
   "source": [
    "In this dataset, only green and purple caps are exclusive to edible mushrooms."
   ]
  },
  {
   "cell_type": "code",
   "execution_count": 19,
   "metadata": {
    "colab": {
     "base_uri": "https://localhost:8080/"
    },
    "id": "_v80fRhwVXK9",
    "outputId": "3f5e2d97-f509-4337-a21d-72ffc6da61a6"
   },
   "outputs": [
    {
     "data": {
      "text/plain": [
       "brown       2284\n",
       "gray        1840\n",
       "red         1500\n",
       "yellow      1072\n",
       "white       1040\n",
       "buff         168\n",
       "pink         144\n",
       "cinnamon      44\n",
       "purple        16\n",
       "green         16\n",
       "Name: cap-color, dtype: int64"
      ]
     },
     "execution_count": 19,
     "metadata": {},
     "output_type": "execute_result"
    }
   ],
   "source": [
    "subset['cap-color'].value_counts()"
   ]
  },
  {
   "cell_type": "code",
   "execution_count": 20,
   "metadata": {
    "colab": {
     "base_uri": "https://localhost:8080/"
    },
    "id": "X7OLnwTgIEYT",
    "outputId": "09169d15-863b-4b08-ee3d-34aa2a75778d"
   },
   "outputs": [
    {
     "data": {
      "text/plain": [
       "cap-color  poisonous\n",
       "brown      edible       1264\n",
       "           poisonous    1020\n",
       "buff       poisonous     120\n",
       "           edible         48\n",
       "cinnamon   edible         32\n",
       "           poisonous      12\n",
       "gray       edible       1032\n",
       "           poisonous     808\n",
       "green      edible         16\n",
       "pink       poisonous      88\n",
       "           edible         56\n",
       "purple     edible         16\n",
       "red        poisonous     876\n",
       "           edible        624\n",
       "white      edible        720\n",
       "           poisonous     320\n",
       "yellow     poisonous     672\n",
       "           edible        400\n",
       "Name: poisonous, dtype: int64"
      ]
     },
     "execution_count": 20,
     "metadata": {},
     "output_type": "execute_result"
    }
   ],
   "source": [
    "subset.groupby('cap-color')['poisonous'].value_counts()"
   ]
  },
  {
   "cell_type": "code",
   "execution_count": 21,
   "metadata": {
    "colab": {
     "base_uri": "https://localhost:8080/",
     "height": 320
    },
    "id": "AkeMSzJVe7Ms",
    "outputId": "46905732-eb01-4b45-c05f-1845116ee6e2"
   },
   "outputs": [
    {
     "data": {
      "image/png": "[encoded data removed]",
      "text/plain": [
       "<Figure size 432x288 with 1 Axes>"
      ]
     },
     "metadata": {
      "needs_background": "light"
     },
     "output_type": "display_data"
    }
   ],
   "source": [
    "sns.scatterplot(\n",
    "    x='poisonous',\n",
    "    y='cap-color',\n",
    "    hue = 'poisonous',\n",
    "    palette=['blue','red'],\n",
    "    data=subset)\n",
    "plt.xticks(rotation=90)\n",
    "plt.legend(loc='upper center');"
   ]
  },
  {
   "cell_type": "markdown",
   "metadata": {
    "id": "NLX8GVGgIYmH"
   },
   "source": [
    "### Gill color"
   ]
  },
  {
   "cell_type": "markdown",
   "metadata": {
    "id": "xuMzO_tcIlR5"
   },
   "source": [
    "In this dataset, buff-colored gills indicate poisonous, whereas red-colored gills indicate edible."
   ]
  },
  {
   "cell_type": "code",
   "execution_count": 22,
   "metadata": {
    "colab": {
     "base_uri": "https://localhost:8080/"
    },
    "id": "ErXEHxpUVZfd",
    "outputId": "bc68ff66-d579-420d-9372-2f399dc841fe"
   },
   "outputs": [
    {
     "data": {
      "text/plain": [
       "buff         1728\n",
       "pink         1492\n",
       "white        1202\n",
       "brown        1048\n",
       "gray          752\n",
       "chocolate     732\n",
       "purple        492\n",
       "black         408\n",
       "red            96\n",
       "yellow         86\n",
       "orange         64\n",
       "green          24\n",
       "Name: gill-color, dtype: int64"
      ]
     },
     "execution_count": 22,
     "metadata": {},
     "output_type": "execute_result"
    }
   ],
   "source": [
    "subset['gill-color'].value_counts()"
   ]
  },
  {
   "cell_type": "code",
   "execution_count": 23,
   "metadata": {
    "colab": {
     "base_uri": "https://localhost:8080/"
    },
    "id": "visXbFyXIfVe",
    "outputId": "b6a9a1c4-4b72-4b4f-eafb-30a4a09766ca"
   },
   "outputs": [
    {
     "data": {
      "text/plain": [
       "gill-color  poisonous\n",
       "black       edible        344\n",
       "            poisonous      64\n",
       "brown       edible        936\n",
       "            poisonous     112\n",
       "buff        poisonous    1728\n",
       "chocolate   poisonous     528\n",
       "            edible        204\n",
       "gray        poisonous     504\n",
       "            edible        248\n",
       "green       poisonous      24\n",
       "orange      edible         64\n",
       "pink        edible        852\n",
       "            poisonous     640\n",
       "purple      edible        444\n",
       "            poisonous      48\n",
       "red         edible         96\n",
       "white       edible        956\n",
       "            poisonous     246\n",
       "yellow      edible         64\n",
       "            poisonous      22\n",
       "Name: poisonous, dtype: int64"
      ]
     },
     "execution_count": 23,
     "metadata": {},
     "output_type": "execute_result"
    }
   ],
   "source": [
    "subset.groupby('gill-color')['poisonous'].value_counts()"
   ]
  },
  {
   "cell_type": "code",
   "execution_count": 24,
   "metadata": {
    "colab": {
     "base_uri": "https://localhost:8080/",
     "height": 320
    },
    "id": "DgKjNNgYfLue",
    "outputId": "869f75fc-20c4-40e5-f1d1-ab99ebd35c2b"
   },
   "outputs": [
    {
     "data": {
      "image/png": "[encoded data removed]",
      "text/plain": [
       "<Figure size 432x288 with 1 Axes>"
      ]
     },
     "metadata": {
      "needs_background": "light"
     },
     "output_type": "display_data"
    }
   ],
   "source": [
    "sns.scatterplot(\n",
    "    x='poisonous',\n",
    "    y='gill-color',\n",
    "    hue = 'poisonous',\n",
    "    palette=['blue','red'],\n",
    "    data=subset)\n",
    "plt.xticks(rotation=90)\n",
    "plt.legend(loc='upper center');"
   ]
  },
  {
   "cell_type": "markdown",
   "metadata": {
    "id": "cssbADb9ZGju"
   },
   "source": [
    "## Split the data into training and testing sets"
   ]
  },
  {
   "cell_type": "code",
   "execution_count": 25,
   "metadata": {
    "id": "5lb8eXuOaa1U"
   },
   "outputs": [],
   "source": [
    "# replace values with dummy values (1 indicates presence of, 0 indicates absence of)\n",
    "dummies = pd.get_dummies(data=subset, columns=['poisonous', 'odor', 'cap-shape', 'cap-surface', 'cap-color', 'gill-color'])"
   ]
  },
  {
   "cell_type": "code",
   "execution_count": 26,
   "metadata": {
    "colab": {
     "base_uri": "https://localhost:8080/"
    },
    "id": "jlIlDuuNLxwa",
    "outputId": "8bdb5a4f-dccb-4e40-a3ab-bc18760a22d1"
   },
   "outputs": [
    {
     "data": {
      "text/plain": [
       "Index(['poisonous_edible', 'poisonous_poisonous', 'odor_almond', 'odor_anise',\n",
       "       'odor_creosote', 'odor_fishy', 'odor_foul', 'odor_musty', 'odor_none',\n",
       "       'odor_pungent', 'odor_spicy', 'cap-shape_bell', 'cap-shape_conical',\n",
       "       'cap-shape_convex', 'cap-shape_flat', 'cap-shape_knobbed',\n",
       "       'cap-shape_sunken', 'cap-surface_fibrous', 'cap-surface_grooves',\n",
       "       'cap-surface_scaly', 'cap-surface_smooth', 'cap-color_brown',\n",
       "       'cap-color_buff', 'cap-color_cinnamon', 'cap-color_gray',\n",
       "       'cap-color_green', 'cap-color_pink', 'cap-color_purple',\n",
       "       'cap-color_red', 'cap-color_white', 'cap-color_yellow',\n",
       "       'gill-color_black', 'gill-color_brown', 'gill-color_buff',\n",
       "       'gill-color_chocolate', 'gill-color_gray', 'gill-color_green',\n",
       "       'gill-color_orange', 'gill-color_pink', 'gill-color_purple',\n",
       "       'gill-color_red', 'gill-color_white', 'gill-color_yellow'],\n",
       "      dtype='object')"
      ]
     },
     "execution_count": 26,
     "metadata": {},
     "output_type": "execute_result"
    }
   ],
   "source": [
    "# there are columns for each attribute\n",
    "dummies.columns"
   ]
  },
  {
   "cell_type": "code",
   "execution_count": 27,
   "metadata": {
    "id": "1Ots3EXJc1Su"
   },
   "outputs": [],
   "source": [
    "# isolate dependent variable\n",
    "poisonous = dummies[['poisonous_poisonous']]"
   ]
  },
  {
   "cell_type": "markdown",
   "metadata": {
    "id": "aapUHyM_NP1k"
   },
   "source": [
    "## Create and evaluate models"
   ]
  },
  {
   "cell_type": "markdown",
   "metadata": {
    "id": "fn_axU5wPgSp"
   },
   "source": [
    "### Odor"
   ]
  },
  {
   "cell_type": "code",
   "execution_count": 28,
   "metadata": {
    "id": "EWg-YyPJc-QC"
   },
   "outputs": [],
   "source": [
    "# consider odor alone as a model\n",
    "odor = dummies[['odor_almond', 'odor_anise',\n",
    "       'odor_creosote', 'odor_fishy', 'odor_foul', 'odor_musty', 'odor_none',\n",
    "       'odor_pungent', 'odor_spicy']]"
   ]
  },
  {
   "cell_type": "code",
   "execution_count": 29,
   "metadata": {
    "id": "a5-sntQhZNdv"
   },
   "outputs": [],
   "source": [
    "X_train, X_test, y_train, y_test = train_test_split(odor, poisonous, test_size=0.2, random_state=1)"
   ]
  },
  {
   "cell_type": "code",
   "execution_count": 30,
   "metadata": {
    "colab": {
     "base_uri": "https://localhost:8080/"
    },
    "id": "Wav21f2xaQo-",
    "outputId": "1e819ecc-a1b8-40c2-ef06-0747a6182e76"
   },
   "outputs": [
    {
     "data": {
      "text/plain": [
       "LinearRegression()"
      ]
     },
     "execution_count": 30,
     "metadata": {},
     "output_type": "execute_result"
    }
   ],
   "source": [
    "odor_model = LinearRegression()\n",
    "odor_model.fit(X_train, y_train)"
   ]
  },
  {
   "cell_type": "code",
   "execution_count": 31,
   "metadata": {
    "colab": {
     "base_uri": "https://localhost:8080/"
    },
    "id": "LgWQ8jipd6Vb",
    "outputId": "903ee8db-3dd3-4708-e79a-f112c6592ea6"
   },
   "outputs": [
    {
     "data": {
      "text/plain": [
       "0.9474202980251896"
      ]
     },
     "execution_count": 31,
     "metadata": {},
     "output_type": "execute_result"
    }
   ],
   "source": [
    "odor_model.score(X_train, y_train)"
   ]
  },
  {
   "cell_type": "code",
   "execution_count": 32,
   "metadata": {
    "colab": {
     "base_uri": "https://localhost:8080/"
    },
    "id": "y-Fnsew9d_Ls",
    "outputId": "e885f474-eaf9-461a-a563-8bdcfe800c05"
   },
   "outputs": [
    {
     "data": {
      "text/plain": [
       "0.9244863586022131"
      ]
     },
     "execution_count": 32,
     "metadata": {},
     "output_type": "execute_result"
    }
   ],
   "source": [
    "odor_model.score(X_test, y_test)"
   ]
  },
  {
   "cell_type": "markdown",
   "metadata": {
    "id": "fmZxpo8ZNeiw"
   },
   "source": [
    "About 92% of the time, the odor-only model predicted edibility in the test set."
   ]
  },
  {
   "cell_type": "markdown",
   "metadata": {
    "id": "cU3Of_LcPihL"
   },
   "source": [
    "### Cap shape"
   ]
  },
  {
   "cell_type": "code",
   "execution_count": 33,
   "metadata": {
    "id": "120xnfXJgDcZ"
   },
   "outputs": [],
   "source": [
    "cap_shape = dummies[['cap-shape_bell', 'cap-shape_conical',\n",
    "       'cap-shape_convex', 'cap-shape_flat', 'cap-shape_knobbed',\n",
    "       'cap-shape_sunken']]"
   ]
  },
  {
   "cell_type": "code",
   "execution_count": 34,
   "metadata": {
    "colab": {
     "base_uri": "https://localhost:8080/"
    },
    "id": "8IQHI8r9PmDa",
    "outputId": "403a4534-cdc5-4a6e-e64a-8fd728fee633"
   },
   "outputs": [
    {
     "data": {
      "text/plain": [
       "LinearRegression()"
      ]
     },
     "execution_count": 34,
     "metadata": {},
     "output_type": "execute_result"
    }
   ],
   "source": [
    "X_train, X_test, y_train, y_test = train_test_split(cap_shape, poisonous, test_size=0.2, random_state=1)\n",
    "capShape_model = LinearRegression()\n",
    "capShape_model.fit(X_train, y_train)"
   ]
  },
  {
   "cell_type": "code",
   "execution_count": 35,
   "metadata": {
    "colab": {
     "base_uri": "https://localhost:8080/"
    },
    "id": "HZaJzgBFQNb_",
    "outputId": "2bd8ce57-e32a-4b14-c9a8-04f9164fcf71"
   },
   "outputs": [
    {
     "data": {
      "text/plain": [
       "0.059140151367442995"
      ]
     },
     "execution_count": 35,
     "metadata": {},
     "output_type": "execute_result"
    }
   ],
   "source": [
    "capShape_model.score(X_train, y_train)"
   ]
  },
  {
   "cell_type": "code",
   "execution_count": 36,
   "metadata": {
    "colab": {
     "base_uri": "https://localhost:8080/"
    },
    "id": "3y4_YDyvQPFE",
    "outputId": "22964f53-821e-49c6-8b66-10a6f0d572e7"
   },
   "outputs": [
    {
     "data": {
      "text/plain": [
       "0.06311472864597778"
      ]
     },
     "execution_count": 36,
     "metadata": {},
     "output_type": "execute_result"
    }
   ],
   "source": [
    "capShape_model.score(X_test, y_test)"
   ]
  },
  {
   "cell_type": "markdown",
   "metadata": {
    "id": "QNj554M7QV3F"
   },
   "source": [
    "About 6% of the time, the cap-shape-only model predicted edibility in the test set."
   ]
  },
  {
   "cell_type": "markdown",
   "metadata": {
    "id": "oNJMYQf6QpMV"
   },
   "source": [
    "### Cap surface"
   ]
  },
  {
   "cell_type": "code",
   "execution_count": 37,
   "metadata": {
    "id": "jDN6nuSPMExq"
   },
   "outputs": [],
   "source": [
    "cap_surface = dummies[['cap-surface_fibrous', 'cap-surface_grooves',\n",
    "       'cap-surface_scaly', 'cap-surface_smooth']]"
   ]
  },
  {
   "cell_type": "code",
   "execution_count": 38,
   "metadata": {
    "colab": {
     "base_uri": "https://localhost:8080/"
    },
    "id": "nJY2l1SPQge4",
    "outputId": "cad29719-0036-4c9d-ef19-28a0b428878d"
   },
   "outputs": [
    {
     "data": {
      "text/plain": [
       "LinearRegression()"
      ]
     },
     "execution_count": 38,
     "metadata": {},
     "output_type": "execute_result"
    }
   ],
   "source": [
    "X_train, X_test, y_train, y_test = train_test_split(cap_surface, poisonous, test_size=0.2, random_state=1)\n",
    "capSurface_model = LinearRegression()\n",
    "capSurface_model.fit(X_train, y_train)"
   ]
  },
  {
   "cell_type": "code",
   "execution_count": 39,
   "metadata": {
    "colab": {
     "base_uri": "https://localhost:8080/"
    },
    "id": "JXIRdfBSRO2B",
    "outputId": "c935ca48-f83e-445c-fc8b-0ec4390e7443"
   },
   "outputs": [
    {
     "data": {
      "text/plain": [
       "0.04074117419650891"
      ]
     },
     "execution_count": 39,
     "metadata": {},
     "output_type": "execute_result"
    }
   ],
   "source": [
    "capSurface_model.score(X_train, y_train)"
   ]
  },
  {
   "cell_type": "code",
   "execution_count": 40,
   "metadata": {
    "colab": {
     "base_uri": "https://localhost:8080/"
    },
    "id": "02uGzWHfRQF2",
    "outputId": "910bcc45-702b-42c3-d989-936b860faa8b"
   },
   "outputs": [
    {
     "data": {
      "text/plain": [
       "0.02937581358877306"
      ]
     },
     "execution_count": 40,
     "metadata": {},
     "output_type": "execute_result"
    }
   ],
   "source": [
    "capSurface_model.score(X_test, y_test)"
   ]
  },
  {
   "cell_type": "markdown",
   "metadata": {
    "id": "rKE02xyWRcC2"
   },
   "source": [
    "Only about 3% of the time, the cap-surface-only model predicted edibility in the test set."
   ]
  },
  {
   "cell_type": "markdown",
   "metadata": {
    "id": "y_fGQ6GBQq8_"
   },
   "source": [
    "### Cap color"
   ]
  },
  {
   "cell_type": "code",
   "execution_count": 41,
   "metadata": {
    "id": "e8fVJ0tOMWHX"
   },
   "outputs": [],
   "source": [
    "cap_color = dummies[['cap-color_brown',\n",
    "       'cap-color_buff', 'cap-color_cinnamon', 'cap-color_gray',\n",
    "       'cap-color_green', 'cap-color_pink', 'cap-color_purple',\n",
    "       'cap-color_red', 'cap-color_white', 'cap-color_yellow']]"
   ]
  },
  {
   "cell_type": "code",
   "execution_count": 42,
   "metadata": {
    "colab": {
     "base_uri": "https://localhost:8080/"
    },
    "id": "N9bjyGAJQkyk",
    "outputId": "fb70f715-ae31-4427-f318-72ba379d069f"
   },
   "outputs": [
    {
     "data": {
      "text/plain": [
       "LinearRegression()"
      ]
     },
     "execution_count": 42,
     "metadata": {},
     "output_type": "execute_result"
    }
   ],
   "source": [
    "X_train, X_test, y_train, y_test = train_test_split(cap_color, poisonous, test_size=0.2, random_state=1)\n",
    "capColor_model = LinearRegression()\n",
    "capColor_model.fit(X_train, y_train)"
   ]
  },
  {
   "cell_type": "code",
   "execution_count": 43,
   "metadata": {
    "colab": {
     "base_uri": "https://localhost:8080/"
    },
    "id": "Y0R7NcDBRkUN",
    "outputId": "a531eaf4-5eb9-43db-b6e6-0c857d5d11b3"
   },
   "outputs": [
    {
     "data": {
      "text/plain": [
       "0.05109801790958701"
      ]
     },
     "execution_count": 43,
     "metadata": {},
     "output_type": "execute_result"
    }
   ],
   "source": [
    "capColor_model.score(X_train, y_train)"
   ]
  },
  {
   "cell_type": "code",
   "execution_count": 44,
   "metadata": {
    "colab": {
     "base_uri": "https://localhost:8080/"
    },
    "id": "EYveMueURlaJ",
    "outputId": "d62cbe92-a755-4ee6-dd49-dcd2ae35e3e8"
   },
   "outputs": [
    {
     "data": {
      "text/plain": [
       "0.03212969614425054"
      ]
     },
     "execution_count": 44,
     "metadata": {},
     "output_type": "execute_result"
    }
   ],
   "source": [
    "capColor_model.score(X_test, y_test)"
   ]
  },
  {
   "cell_type": "markdown",
   "metadata": {
    "id": "kxssm4wcRvVx"
   },
   "source": [
    "Only about 3% of the time, the cap-color-only model predicted edibility in the test set."
   ]
  },
  {
   "cell_type": "markdown",
   "metadata": {
    "id": "rZ63DnsMQryO"
   },
   "source": [
    "### Gill color"
   ]
  },
  {
   "cell_type": "code",
   "execution_count": 45,
   "metadata": {
    "id": "fY0jB01sMfLZ"
   },
   "outputs": [],
   "source": [
    "gill_color = dummies[['gill-color_black', 'gill-color_brown', 'gill-color_buff',\n",
    "       'gill-color_chocolate', 'gill-color_gray', 'gill-color_green',\n",
    "       'gill-color_orange', 'gill-color_pink', 'gill-color_purple',\n",
    "       'gill-color_red', 'gill-color_white', 'gill-color_yellow']]"
   ]
  },
  {
   "cell_type": "code",
   "execution_count": 46,
   "metadata": {
    "colab": {
     "base_uri": "https://localhost:8080/"
    },
    "id": "TM9eke5UQlyX",
    "outputId": "997c6225-b61f-4408-f809-4e6e98897309"
   },
   "outputs": [
    {
     "data": {
      "text/plain": [
       "LinearRegression()"
      ]
     },
     "execution_count": 46,
     "metadata": {},
     "output_type": "execute_result"
    }
   ],
   "source": [
    "X_train, X_test, y_train, y_test = train_test_split(gill_color, poisonous, test_size=0.2, random_state=1)\n",
    "gillColor_model = LinearRegression()\n",
    "gillColor_model.fit(X_train, y_train)"
   ]
  },
  {
   "cell_type": "code",
   "execution_count": 47,
   "metadata": {
    "colab": {
     "base_uri": "https://localhost:8080/"
    },
    "id": "uHpu5nB7SFc3",
    "outputId": "6c8d3667-4a02-4d8c-c650-d5ffee62adcb"
   },
   "outputs": [
    {
     "data": {
      "text/plain": [
       "0.46428284135813636"
      ]
     },
     "execution_count": 47,
     "metadata": {},
     "output_type": "execute_result"
    }
   ],
   "source": [
    "gillColor_model.score(X_train, y_train)"
   ]
  },
  {
   "cell_type": "code",
   "execution_count": 48,
   "metadata": {
    "colab": {
     "base_uri": "https://localhost:8080/"
    },
    "id": "mQVp0XTZSGl1",
    "outputId": "decc2ee6-c1fd-4b5e-d7ea-16f15ccc6c6b"
   },
   "outputs": [
    {
     "data": {
      "text/plain": [
       "0.4598347364777128"
      ]
     },
     "execution_count": 48,
     "metadata": {},
     "output_type": "execute_result"
    }
   ],
   "source": [
    "gillColor_model.score(X_test, y_test)"
   ]
  },
  {
   "cell_type": "markdown",
   "metadata": {
    "id": "U4sExyU6SQTn"
   },
   "source": [
    "About 46% of the time, the gill-color-only model predicted edibility in the test set. After odor, gill-color is the next most reliable means of determining mushroom edibility."
   ]
  },
  {
   "cell_type": "markdown",
   "metadata": {
    "id": "V9ft70lZStLO"
   },
   "source": [
    "### All features"
   ]
  },
  {
   "cell_type": "code",
   "execution_count": 49,
   "metadata": {
    "id": "C80q4vrfTBIl"
   },
   "outputs": [],
   "source": [
    "all_features = dummies[['odor_almond', 'odor_anise',\n",
    "       'odor_creosote', 'odor_fishy', 'odor_foul', 'odor_musty', 'odor_none',\n",
    "       'odor_pungent', 'odor_spicy', 'cap-shape_bell', 'cap-shape_conical',\n",
    "       'cap-shape_convex', 'cap-shape_flat', 'cap-shape_knobbed',\n",
    "       'cap-shape_sunken', 'cap-surface_fibrous', 'cap-surface_grooves',\n",
    "       'cap-surface_scaly', 'cap-surface_smooth', 'cap-color_brown',\n",
    "       'cap-color_buff', 'cap-color_cinnamon', 'cap-color_gray',\n",
    "       'cap-color_green', 'cap-color_pink', 'cap-color_purple',\n",
    "       'cap-color_red', 'cap-color_white', 'cap-color_yellow',\n",
    "       'gill-color_black', 'gill-color_brown', 'gill-color_buff',\n",
    "       'gill-color_chocolate', 'gill-color_gray', 'gill-color_green',\n",
    "       'gill-color_orange', 'gill-color_pink', 'gill-color_purple',\n",
    "       'gill-color_red', 'gill-color_white', 'gill-color_yellow']]"
   ]
  },
  {
   "cell_type": "code",
   "execution_count": 50,
   "metadata": {
    "colab": {
     "base_uri": "https://localhost:8080/"
    },
    "id": "poI93kzmTP6d",
    "outputId": "8c12a98c-f7c9-47df-d0f2-c76938dc2a70"
   },
   "outputs": [
    {
     "data": {
      "text/plain": [
       "LinearRegression()"
      ]
     },
     "execution_count": 50,
     "metadata": {},
     "output_type": "execute_result"
    }
   ],
   "source": [
    "X_train, X_test, y_train, y_test = train_test_split(all_features, poisonous, test_size=0.2, random_state=1)\n",
    "allFeatures_model = LinearRegression()\n",
    "allFeatures_model.fit(X_train, y_train)"
   ]
  },
  {
   "cell_type": "code",
   "execution_count": 51,
   "metadata": {
    "colab": {
     "base_uri": "https://localhost:8080/"
    },
    "id": "t625ArrfUAza",
    "outputId": "de1d3694-49d1-4e49-9abe-cc0a43c1cebc"
   },
   "outputs": [
    {
     "data": {
      "text/plain": [
       "0.9657134948886302"
      ]
     },
     "execution_count": 51,
     "metadata": {},
     "output_type": "execute_result"
    }
   ],
   "source": [
    "allFeatures_model.score(X_train, y_train)"
   ]
  },
  {
   "cell_type": "code",
   "execution_count": 52,
   "metadata": {
    "colab": {
     "base_uri": "https://localhost:8080/"
    },
    "id": "ePfBS6jfUFue",
    "outputId": "f9c55b9c-ae4c-497f-8871-5c473bf17162"
   },
   "outputs": [
    {
     "data": {
      "text/plain": [
       "0.9456076996366104"
      ]
     },
     "execution_count": 52,
     "metadata": {},
     "output_type": "execute_result"
    }
   ],
   "source": [
    "allFeatures_model.score(X_test, y_test)"
   ]
  },
  {
   "cell_type": "markdown",
   "metadata": {
    "id": "PdgP7H1FURwP"
   },
   "source": [
    "When using a model that includes numerical values to represent the presence or absence of all features in the selected subset, about 95% of the time, the model predicts edibility correctly."
   ]
  }
 ],
 "metadata": {
  "colab": {
   "collapsed_sections": [],
   "name": "IS362_Project4.ipynb",
   "provenance": []
  },
  "kernelspec": {
   "display_name": "Python 3",
   "language": "python",
   "name": "python3"
  },
  "language_info": {
   "codemirror_mode": {
    "name": "ipython",
    "version": 3
   },
   "file_extension": ".py",
   "mimetype": "text/x-python",
   "name": "python",
   "nbconvert_exporter": "python",
   "pygments_lexer": "ipython3",
   "version": "3.8.6"
  }
 },
 "nbformat": 4,
 "nbformat_minor": 1
}
